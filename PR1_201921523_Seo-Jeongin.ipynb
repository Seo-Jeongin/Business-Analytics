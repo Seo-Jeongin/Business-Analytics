{
 "cells": [
  {
   "cell_type": "markdown",
   "id": "e33da732",
   "metadata": {},
   "source": [
    "# 파이썬 스타일 코드1 - 연습해보기\n",
    "\n",
    "## 일반문제\n",
    "\n",
    "***\n",
    "### 1. Css Selector 수정"
   ]
  },
  {
   "cell_type": "code",
   "execution_count": 2,
   "id": "a17844cb",
   "metadata": {},
   "outputs": [
    {
     "data": {
      "text/plain": [
       "'#today_main_news  >  div.hdline_news  >  ul  >  li'"
      ]
     },
     "execution_count": 2,
     "metadata": {},
     "output_type": "execute_result"
    }
   ],
   "source": [
    "selector = \"#today_main_news > div.hdline_news > ul > li:nth-child(1)\"\n",
    "\n",
    "selector_list = selector.split(\">\")  # 구분자 \">\"를 기준으로 리스트 생성\n",
    "selector_list[-1] = selector_list[-1].split(\":\")[0]  # 구분자 \":\"를 기준으로 리스트 생성\n",
    "\n",
    "\" > \".join(selector_list)  # 리스트를 구분자 \">\"를 기준으로 문자열로 합침"
   ]
  },
  {
   "cell_type": "markdown",
   "id": "d6292f98",
   "metadata": {},
   "source": [
    "### 2. list comprehension으로 만드는 구구단"
   ]
  },
  {
   "cell_type": "code",
   "execution_count": 3,
   "id": "2e5a4929",
   "metadata": {
    "scrolled": true
   },
   "outputs": [
    {
     "name": "stdout",
     "output_type": "stream",
     "text": [
      "7 x 1 = 7\n",
      "7 x 2 = 14\n",
      "7 x 3 = 21\n",
      "7 x 4 = 28\n",
      "7 x 5 = 35\n",
      "7 x 6 = 42\n",
      "7 x 7 = 49\n",
      "7 x 8 = 56\n",
      "7 x 9 = 63\n"
     ]
    }
   ],
   "source": [
    "def gugu_com(x=7):\n",
    "    [print(f\"{x} x {i} = {x*i}\") for i in range(1, 10)]  # 7 x i(1부터 9) = 7*i를 순서대로 출력\n",
    "\n",
    "gugu_com(7)"
   ]
  },
  {
   "cell_type": "markdown",
   "id": "e6d12a31",
   "metadata": {},
   "source": [
    "### 3. 두 주사위의 곱"
   ]
  },
  {
   "cell_type": "code",
   "execution_count": 4,
   "id": "2c6be3e8",
   "metadata": {},
   "outputs": [
    {
     "data": {
      "text/plain": [
       "[[1, 2, 3, 4, 5, 6],\n",
       " [2, 4, 6, 8, 10, 12],\n",
       " [3, 6, 9, 12, 15, 18],\n",
       " [4, 8, 12, 16, 20, 24],\n",
       " [5, 10, 15, 20, 25, 30],\n",
       " [6, 12, 18, 24, 30, 36]]"
      ]
     },
     "execution_count": 4,
     "metadata": {},
     "output_type": "execute_result"
    }
   ],
   "source": [
    "die = [i for i in range(1,7)]  # 숫자 1부터 6까지의 한개의 주사위\n",
    "\n",
    "[[j*i for i in die] for j in die]  # 주사위1의 i와 주사위2의 j의 곱"
   ]
  },
  {
   "cell_type": "markdown",
   "id": "eccd488c",
   "metadata": {},
   "source": [
    "### 4. 두 주사위의 합"
   ]
  },
  {
   "cell_type": "code",
   "execution_count": 40,
   "id": "125358dd",
   "metadata": {},
   "outputs": [
    {
     "name": "stdout",
     "output_type": "stream",
     "text": [
      "8\n",
      "8\n"
     ]
    }
   ],
   "source": [
    "# 두 주사위 합의 결과의 이차원 리스트 생성\n",
    "dice_sum = [[2, 3, 4, 5, 6, 7],\n",
    "            [3, 4, 5, 6, 7, 8],\n",
    "            [4, 5, 6, 7, 8, 9],\n",
    "            [5, 6, 7, 8, 9, 10],\n",
    "            [6, 7, 8, 9, 10, 11],\n",
    "            [7, 8, 9, 10, 11, 12]]\n",
    "\n",
    "# 인덱싱을 이용한 2+6의 결과\n",
    "print(dice_sum[1][5]) \n",
    "print(dice_sum[5][1])  "
   ]
  },
  {
   "cell_type": "code",
   "execution_count": 39,
   "id": "82bb4c51",
   "metadata": {},
   "outputs": [
    {
     "name": "stdout",
     "output_type": "stream",
     "text": [
      "8\n",
      "8\n"
     ]
    }
   ],
   "source": [
    "die = [i for i in range(1,7)]  # 1~6의 한개의 주사위\n",
    "\n",
    "dice_sum = [[j+i for i in die] for j in die]  # 두 주사위의 합\n",
    "\n",
    "# 인덱싱을 활용한 2+6의 결과\n",
    "print(dice_sum[1][5])\n",
    "print(dice_sum[5][1]) "
   ]
  },
  {
   "cell_type": "markdown",
   "id": "e04a5062",
   "metadata": {},
   "source": [
    "## 도전문제\n",
    "\n",
    "***"
   ]
  },
  {
   "cell_type": "markdown",
   "id": "34165211",
   "metadata": {},
   "source": [
    "### 표절 검사 프로그램"
   ]
  },
  {
   "cell_type": "markdown",
   "id": "842dc6e9",
   "metadata": {},
   "source": [
    "#### 문제1"
   ]
  },
  {
   "cell_type": "code",
   "execution_count": 7,
   "id": "b238292c",
   "metadata": {},
   "outputs": [
    {
     "data": {
      "text/plain": [
       "defaultdict(<function __main__.word_counter.<locals>.<lambda>()>,\n",
       "            {'python': 2,\n",
       "             'is': 1,\n",
       "             'a': 1,\n",
       "             'very': 1,\n",
       "             'simple': 1,\n",
       "             'programming': 1,\n",
       "             'language': 1,\n",
       "             'so': 1,\n",
       "             'even': 1,\n",
       "             'if': 1,\n",
       "             'you': 2,\n",
       "             'are': 1,\n",
       "             'new': 1,\n",
       "             'to': 1,\n",
       "             'programming,': 1,\n",
       "             'can': 1,\n",
       "             'learn': 1,\n",
       "             'without': 1,\n",
       "             'facing': 1,\n",
       "             'any': 1,\n",
       "             'issues.': 1})"
      ]
     },
     "execution_count": 7,
     "metadata": {},
     "output_type": "execute_result"
    }
   ],
   "source": [
    "from collections import defaultdict, Counter\n",
    "\n",
    "text = \"\"\"Python is a very simple programming language so even if you are new to programming, you can learn python without facing any issues.\"\"\"\n",
    "\n",
    "text2 = \"\"\"C is a very difficult programming language so even if you are good at programming, you can learn c with facing any issues.\"\"\"\n",
    "\n",
    "text3 = \"\"\"R Programming is good at statistical analysis. you can learn easily\"\"\"\n",
    "\n",
    "def word_counter(text):\n",
    "    word_count = defaultdict(lambda: 0)  # 기본값 0을 가지는 딕셔너리\n",
    "    for word in text.lower().split():  # 텍스트 소문자 변경 및 분리\n",
    "        word_count[word] += 1  # 단어별 개수 세기\n",
    "        \n",
    "    return word_count\n",
    "\n",
    "word_counter(text)"
   ]
  },
  {
   "cell_type": "markdown",
   "id": "eee8489f",
   "metadata": {},
   "source": [
    "#### 문제2"
   ]
  },
  {
   "cell_type": "code",
   "execution_count": 11,
   "id": "776e4d0e",
   "metadata": {},
   "outputs": [],
   "source": [
    "# 두 문장의 텍스트 유사성 함수\n",
    "def text_similarity(text_count_1, text_count_2):\n",
    "    text1_count = Counter(text_count_1)\n",
    "    text2_count = Counter(text_count_2)\n",
    "    \n",
    "    word_total = sum(text1_count.values())  # text1 단어수의 합\n",
    "    word_diff = sum((text1_count - text2_count).values())  # (text1 단어수 - text2 단어수)의 합\n",
    "    \n",
    "    return (1 - word_diff / word_total) * 100"
   ]
  },
  {
   "cell_type": "code",
   "execution_count": 9,
   "id": "25a1b3ae",
   "metadata": {},
   "outputs": [
    {
     "data": {
      "text/plain": [
       "73.91304347826086"
      ]
     },
     "execution_count": 9,
     "metadata": {},
     "output_type": "execute_result"
    }
   ],
   "source": [
    "# text와 text2의 텍스트 유사성\n",
    "text_similarity(word_counter(text), word_counter(text2))"
   ]
  },
  {
   "cell_type": "code",
   "execution_count": 10,
   "id": "d66ad6a8",
   "metadata": {},
   "outputs": [
    {
     "data": {
      "text/plain": [
       "21.739130434782606"
      ]
     },
     "execution_count": 10,
     "metadata": {},
     "output_type": "execute_result"
    }
   ],
   "source": [
    "# text와 text3의 텍스트 유사성\n",
    "text_similarity(word_counter(text), word_counter(text3))"
   ]
  },
  {
   "cell_type": "markdown",
   "id": "7b9500aa",
   "metadata": {},
   "source": [
    "# 파이썬 스타일 코드2 - 연습해보기\n",
    "\n",
    "## 실습코드\n",
    "\n",
    "***"
   ]
  },
  {
   "cell_type": "markdown",
   "id": "ae88a9ad",
   "metadata": {},
   "source": [
    "### 1. 람다함수"
   ]
  },
  {
   "cell_type": "markdown",
   "id": "ed1bcb54",
   "metadata": {},
   "source": [
    "#### 1.1 기존 함수"
   ]
  },
  {
   "cell_type": "code",
   "execution_count": 12,
   "id": "deac16eb",
   "metadata": {},
   "outputs": [
    {
     "name": "stdout",
     "output_type": "stream",
     "text": [
      "5\n"
     ]
    }
   ],
   "source": [
    "def f(x,y):\n",
    "    return x + y\n",
    "\n",
    "print(f(1,4))  # 1+4의 값 출력"
   ]
  },
  {
   "cell_type": "markdown",
   "id": "ec24e04f",
   "metadata": {},
   "source": [
    "#### 1.2. lambda 함수 할당"
   ]
  },
  {
   "cell_type": "code",
   "execution_count": 13,
   "id": "d223138a",
   "metadata": {},
   "outputs": [
    {
     "name": "stdout",
     "output_type": "stream",
     "text": [
      "5\n"
     ]
    }
   ],
   "source": [
    "f=lambda x,y: x + y\n",
    "print(f(1,4))  # 1+4의 값 출력"
   ]
  },
  {
   "cell_type": "markdown",
   "id": "10b1faf6",
   "metadata": {},
   "source": [
    "#### 1.3. 익명의 lambda 함수"
   ]
  },
  {
   "cell_type": "code",
   "execution_count": 14,
   "id": "2a5f33a7",
   "metadata": {},
   "outputs": [
    {
     "name": "stdout",
     "output_type": "stream",
     "text": [
      "5\n"
     ]
    }
   ],
   "source": [
    "print((lambda x, y:x + y)(1, 4))  # 1+4의 값 출력"
   ]
  },
  {
   "cell_type": "markdown",
   "id": "8693ee9a",
   "metadata": {},
   "source": [
    "### 2. 맵리듀스"
   ]
  },
  {
   "cell_type": "markdown",
   "id": "d3ef759b",
   "metadata": {},
   "source": [
    "#### 2.1. map 함수"
   ]
  },
  {
   "cell_type": "code",
   "execution_count": 16,
   "id": "31d0b369",
   "metadata": {},
   "outputs": [
    {
     "name": "stdout",
     "output_type": "stream",
     "text": [
      "[1, 4, 9, 16, 25]\n"
     ]
    }
   ],
   "source": [
    "ex = [1,2,3,4,5]  # 리스트 생성\n",
    "f = lambda x:x**2  # x제곱 람다함수 생성\n",
    "print(list(map(f, ex)))  # map을 이용하여 리스트로 출력"
   ]
  },
  {
   "cell_type": "code",
   "execution_count": null,
   "id": "0c40cfd0",
   "metadata": {},
   "outputs": [],
   "source": [
    "ex=[1,2,3,4,5]  # 리스트 생성\n",
    "f=lambda x:x**2  # x제곱 람다함수 생성\n",
    "for value in map(f,ex):  # map을 이용하여 출력\n",
    "    print(value)"
   ]
  },
  {
   "cell_type": "code",
   "execution_count": null,
   "id": "a569ed0c",
   "metadata": {},
   "outputs": [],
   "source": [
    "ex = [1, 2, 3, 4, 5]  # 리스트 생성\n",
    "[x**2 for x in ex]  # list comprehension 이용하여 x제곱 출력"
   ]
  },
  {
   "cell_type": "code",
   "execution_count": 17,
   "id": "f5ec7291",
   "metadata": {},
   "outputs": [
    {
     "data": {
      "text/plain": [
       "[2, 4, 6, 8, 10]"
      ]
     },
     "execution_count": 17,
     "metadata": {},
     "output_type": "execute_result"
    }
   ],
   "source": [
    "ex=[1,2,3,4,5]  # 리스트 생성\n",
    "f=lambda x,y:x+y  # x+y의 람다함수 생성\n",
    "list(map(f,ex,ex))  # ex+ex 리스트로 출력"
   ]
  },
  {
   "cell_type": "code",
   "execution_count": 18,
   "id": "3a17ade8",
   "metadata": {},
   "outputs": [
    {
     "data": {
      "text/plain": [
       "[2, 4, 6, 8, 10]"
      ]
     },
     "execution_count": 18,
     "metadata": {},
     "output_type": "execute_result"
    }
   ],
   "source": [
    "[x+y for x,y in zip(ex,ex)]  # list comprehenstion 이용하여 ex+ex 출력"
   ]
  },
  {
   "cell_type": "markdown",
   "id": "9f99a55a",
   "metadata": {},
   "source": [
    "#### 2.2. reduce 함수"
   ]
  },
  {
   "cell_type": "code",
   "execution_count": 19,
   "id": "cc6c30b1",
   "metadata": {
    "scrolled": true
   },
   "outputs": [
    {
     "name": "stdout",
     "output_type": "stream",
     "text": [
      "15\n"
     ]
    }
   ],
   "source": [
    "from functools import reduce  # functools 내장 모듈의 reduce 함수 불러오기\n",
    "print(reduce(lambda x,y:x+y, [1,2,3,4,5]))  # ((((1+2)+3)+4)+5)=15 출력"
   ]
  },
  {
   "cell_type": "code",
   "execution_count": 20,
   "id": "7837eb74",
   "metadata": {},
   "outputs": [
    {
     "name": "stdout",
     "output_type": "stream",
     "text": [
      "15\n"
     ]
    }
   ],
   "source": [
    "x=0  # 초기값 지정\n",
    "for y in [1,2,3,4,5]:\n",
    "    x += y  # 반복하여 x에 y 더함, (((((0+1)+2)+3)+4)+5)=15 출력\n",
    "print(x)"
   ]
  },
  {
   "cell_type": "markdown",
   "id": "f790397c",
   "metadata": {},
   "source": [
    "### 3. 별표의 활용"
   ]
  },
  {
   "cell_type": "markdown",
   "id": "263bde4c",
   "metadata": {},
   "source": [
    "#### 3.1. 가변 인수로 활용\n",
    "* 가변 인수"
   ]
  },
  {
   "cell_type": "code",
   "execution_count": 21,
   "id": "eb9e625f",
   "metadata": {},
   "outputs": [
    {
     "name": "stdout",
     "output_type": "stream",
     "text": [
      "1 (2, 3, 4, 5, 6)\n",
      "<class 'tuple'>\n"
     ]
    }
   ],
   "source": [
    "# 임의의 개수의 인수를 받는 함수 생성\n",
    "def asterisk_test(a,*args):\n",
    "    print(a,args)\n",
    "    print(type(args))  # args의 유형 출력\n",
    "\n",
    "asterisk_test(1,2,3,4,5,6)  # a=1, args=(2,3,4,5,6)"
   ]
  },
  {
   "cell_type": "markdown",
   "id": "4006b54c",
   "metadata": {},
   "source": [
    "* 키워드 가변 인수"
   ]
  },
  {
   "cell_type": "code",
   "execution_count": 22,
   "id": "ddef5d23",
   "metadata": {},
   "outputs": [
    {
     "name": "stdout",
     "output_type": "stream",
     "text": [
      "1 {'b': 2, 'c': 3, 'd': 4, 'e': 5, 'f': 6}\n",
      "<class 'dict'>\n"
     ]
    }
   ],
   "source": [
    "def asterisk_test(a,**kargs):\n",
    "    print(a,kargs)\n",
    "    print(type(kargs))  # kargs의 유형 출력\n",
    "asterisk_test(1,b=2,c=3,d=4,e=5,f=6)  # a=1, kargs={'b':2,'c':3,'d':4,'e':5,'f':6}"
   ]
  },
  {
   "cell_type": "markdown",
   "id": "b0afba6a",
   "metadata": {},
   "source": [
    "#### 3.2. 별표의 언패킹 기능\n",
    "* 함수에서의 사용"
   ]
  },
  {
   "cell_type": "code",
   "execution_count": 23,
   "id": "13dc65a2",
   "metadata": {},
   "outputs": [
    {
     "name": "stdout",
     "output_type": "stream",
     "text": [
      "1 2 3 4 5 6\n",
      "<class 'tuple'>\n"
     ]
    }
   ],
   "source": [
    "def asterisk_test(a,args):\n",
    "    print(a,*args)  # 별표의 언패킹\n",
    "    print(type(args))  # args의 유형 출력\n",
    "asterisk_test(1,(2,3,4,5,6))  # a=1, *args=2 3 4 5 6"
   ]
  },
  {
   "cell_type": "code",
   "execution_count": 24,
   "id": "625da7d0",
   "metadata": {},
   "outputs": [
    {
     "name": "stdout",
     "output_type": "stream",
     "text": [
      "1 (2, 3, 4, 5, 6)\n",
      "<class 'tuple'>\n"
     ]
    }
   ],
   "source": [
    "def asterisk_test(a,args):\n",
    "    print(a,args)\n",
    "    print(type(args))  # args의 유형 출력\n",
    "asterisk_test(1,(2,3,4,5,6))  # a=1, args=(2,3,4,5,6)"
   ]
  },
  {
   "cell_type": "markdown",
   "id": "9f0f6663",
   "metadata": {},
   "source": [
    "* 일반 자료형에서의 사용"
   ]
  },
  {
   "cell_type": "code",
   "execution_count": 27,
   "id": "8f9e8c48",
   "metadata": {},
   "outputs": [
    {
     "name": "stdout",
     "output_type": "stream",
     "text": [
      "[1, 2] [3, 4] [5, 6]\n",
      "[1, 2] [3, 4] [5, 6]\n"
     ]
    }
   ],
   "source": [
    "a,b,c=([1,2], [3,4], [5,6])\n",
    "print(a,b,c)\n",
    "data=([1,2], [3,4], [5,6])\n",
    "print(*data)"
   ]
  },
  {
   "cell_type": "markdown",
   "id": "e0e111cf",
   "metadata": {},
   "source": [
    "* zip 함수와의 응용"
   ]
  },
  {
   "cell_type": "code",
   "execution_count": 26,
   "id": "d20b3101",
   "metadata": {},
   "outputs": [
    {
     "name": "stdout",
     "output_type": "stream",
     "text": [
      "(1, 3, 5)\n",
      "<class 'tuple'>\n",
      "(2, 4, 6)\n",
      "<class 'tuple'>\n"
     ]
    }
   ],
   "source": [
    "for data in zip(*[[1,2],[3,4],[5,6]]):  # zip 언패킹:묶여있는 것을 각각의 리스트로 분해시킴\n",
    "    print(data)\n",
    "    print(type(data))"
   ]
  },
  {
   "cell_type": "markdown",
   "id": "47ebad23",
   "metadata": {},
   "source": [
    "* 키워드 가변 인수 응용"
   ]
  },
  {
   "cell_type": "code",
   "execution_count": 28,
   "id": "8253c4b7",
   "metadata": {},
   "outputs": [
    {
     "name": "stdout",
     "output_type": "stream",
     "text": [
      "10 1 2 3\n"
     ]
    }
   ],
   "source": [
    "def asterisk_test(a,b,c,d):\n",
    "    print(a,b,c,d)\n",
    "data={\"b\":1, \"c\":2, \"d\":3}\n",
    "asterisk_test(10, **data)  # **data 언패킹:a=10, b=1, c=2, d=3"
   ]
  },
  {
   "cell_type": "markdown",
   "id": "0e5acde8",
   "metadata": {},
   "source": [
    "### 4. 선형대수학\n",
    "#### 4.1. 파이썬 스타일 코드로 표현한 벡터"
   ]
  },
  {
   "cell_type": "code",
   "execution_count": 29,
   "id": "85c9417f",
   "metadata": {},
   "outputs": [],
   "source": [
    "vector_a=[1,2,10]  # 리스트로 표현한 경우\n",
    "vector_b=(1,2,10)   # 튜플로 표현한 경우\n",
    "vector_c={'x':1, 'y':2, 'z':10}  # 딕셔너리로 표현한 경우"
   ]
  },
  {
   "cell_type": "code",
   "execution_count": 30,
   "id": "0ff4234a",
   "metadata": {},
   "outputs": [
    {
     "name": "stdout",
     "output_type": "stream",
     "text": [
      "[7, 10]\n"
     ]
    }
   ],
   "source": [
    "u=[2,2]\n",
    "v=[2,3]\n",
    "z=[3,5]\n",
    "result=[]\n",
    "\n",
    "for i in range(len(u)):\n",
    "    result.append(u[i]+v[i]+z[i])  # 각 리스트 첫 번째 수 의 합(2+2+3=7)과 두 번째 수의 합(2+3+5=10)을 리스트에 추가\n",
    "print(result)"
   ]
  },
  {
   "cell_type": "code",
   "execution_count": 31,
   "id": "184fe97f",
   "metadata": {},
   "outputs": [
    {
     "name": "stdout",
     "output_type": "stream",
     "text": [
      "[7, 10]\n"
     ]
    }
   ],
   "source": [
    "u=[2,2]\n",
    "v=[2,3]\n",
    "z=[3,5]\n",
    "result=[sum(t) for t in zip(u,v,z)]  # 각 리스트 첫 번째 수의 합(2+2+3=7)과 두 번째 수의 합(2+3+5=10)을 순서대로 묶어줌 \n",
    "print(result)"
   ]
  },
  {
   "cell_type": "markdown",
   "id": "b6590b74",
   "metadata": {},
   "source": [
    "* 별표를 사용한 함수화"
   ]
  },
  {
   "cell_type": "code",
   "execution_count": 32,
   "id": "8bfda66d",
   "metadata": {},
   "outputs": [
    {
     "data": {
      "text/plain": [
       "[7, 10]"
      ]
     },
     "execution_count": 32,
     "metadata": {},
     "output_type": "execute_result"
    }
   ],
   "source": [
    "def vector_addition(*args):\n",
    "    return [sum(t) for t in zip(*args)]   # unpacking 통해 zip(u,v,z) 효과를 낼 수 있음.\n",
    "\n",
    "vector_addition(u,v,z)"
   ]
  },
  {
   "cell_type": "markdown",
   "id": "b025111a",
   "metadata": {},
   "source": [
    "* 간단한 두벡터의 합"
   ]
  },
  {
   "cell_type": "code",
   "execution_count": 33,
   "id": "76af73d3",
   "metadata": {},
   "outputs": [
    {
     "data": {
      "text/plain": [
       "[3, 3]"
      ]
     },
     "execution_count": 33,
     "metadata": {},
     "output_type": "execute_result"
    }
   ],
   "source": [
    "a = [1, 1]\n",
    "b = [2, 2]\n",
    "\n",
    "[x + y for x, y in zip(a, b)]  # zip을 이용한 두 벡터의 합 : 1+2=3과 1+2=3"
   ]
  },
  {
   "cell_type": "markdown",
   "id": "9fc171a9",
   "metadata": {},
   "source": [
    "* 벡터의 연산:스칼라곱"
   ]
  },
  {
   "cell_type": "code",
   "execution_count": 34,
   "id": "5d3794bc",
   "metadata": {},
   "outputs": [
    {
     "data": {
      "text/plain": [
       "[10, 12, 14]"
      ]
     },
     "execution_count": 34,
     "metadata": {},
     "output_type": "execute_result"
    }
   ],
   "source": [
    "u=[1,2,3]\n",
    "v=[4,4,4]\n",
    "\n",
    "alpha=2\n",
    "\n",
    "result=[alpha*sum(t) for t in zip(u,v)]  # aplha와 리스트 각 자리수의 합의 곱 : 2*(1+4)=10, 2*(2+4)=12, 2*(3+4)=14\n",
    "result"
   ]
  },
  {
   "cell_type": "markdown",
   "id": "fcbf84e4",
   "metadata": {},
   "source": [
    "#### 4.2. 파이썬 스타일코드로 표현한 행렬\n",
    "* 딕셔너리로 표현하는 경우 좌표정보나 이름정보를 넣을 수 있으나 복잡함"
   ]
  },
  {
   "cell_type": "code",
   "execution_count": 35,
   "id": "e435c939",
   "metadata": {},
   "outputs": [],
   "source": [
    "matrix_a=[[3,6], [4,5]] #리스트로 표현한 경우\n",
    "matrix_b=[(3,6), (4,5)] #튜플로 표현한 경우\n",
    "matrix_c={(0,0):3, (0,1):6, (1,0):4, (1,1):5}  #디셔너리로 표현한경우"
   ]
  },
  {
   "cell_type": "markdown",
   "id": "d91f0399",
   "metadata": {},
   "source": [
    "* 행렬의 연산:행렬의 element-wise 합"
   ]
  },
  {
   "cell_type": "code",
   "execution_count": 36,
   "id": "38d53154",
   "metadata": {},
   "outputs": [
    {
     "name": "stdout",
     "output_type": "stream",
     "text": [
      "[[8, 14], [10, 12]]\n"
     ]
    }
   ],
   "source": [
    "matrix_a=[[3,6], [4,5]]\n",
    "matrix_b=[[5,8], [6,7]]\n",
    "\n",
    "result=[[sum(row) for row in zip(*t)] for t in zip(matrix_a, matrix_b)]  # 두 행렬에서 각 행의 합\n",
    "print(result)"
   ]
  },
  {
   "cell_type": "markdown",
   "id": "533ddf87",
   "metadata": {},
   "source": [
    "\n",
    "## 일반문제\n",
    "\n",
    "***\n",
    "### 주민등록번호로 성별 찾기 with map"
   ]
  },
  {
   "cell_type": "code",
   "execution_count": 37,
   "id": "9691b9e8",
   "metadata": {},
   "outputs": [
    {
     "data": {
      "text/plain": [
       "['1', '2', '1', '1']"
      ]
     },
     "execution_count": 37,
     "metadata": {},
     "output_type": "execute_result"
    }
   ],
   "source": [
    "pins = [\"891120-1234567\", \"931120-2335567\", \"911120-1234234\", \"951120-1234567\"]\n",
    "\n",
    "list(map(lambda x: x.split(\"-\")[1][0], pins))\n",
    "# 구분자 \"-\"를 기준으로 분리시켰을 때 2번째 그룹에서 1번째 숫자 출력"
   ]
  },
  {
   "cell_type": "markdown",
   "id": "f53be3ab",
   "metadata": {},
   "source": [
    "## 도전문제\n",
    "\n",
    "***\n",
    "### 벡터의 내적"
   ]
  },
  {
   "cell_type": "code",
   "execution_count": 41,
   "id": "80eed6b3",
   "metadata": {},
   "outputs": [
    {
     "data": {
      "text/plain": [
       "11"
      ]
     },
     "execution_count": 41,
     "metadata": {},
     "output_type": "execute_result"
    }
   ],
   "source": [
    "a=[1,2]\n",
    "b=[3,4]\n",
    "\n",
    "dot = lambda a,b : sum([x*y for x, y in zip(a,b)])  # zip을 이용한 각 리스트 1,2번째 수 곱의 합 : (1*3) + (2*4) = 11 출력\n",
    "dot(a,b)"
   ]
  }
 ],
 "metadata": {
  "kernelspec": {
   "display_name": "Python 3",
   "language": "python",
   "name": "python3"
  },
  "language_info": {
   "codemirror_mode": {
    "name": "ipython",
    "version": 3
   },
   "file_extension": ".py",
   "mimetype": "text/x-python",
   "name": "python",
   "nbconvert_exporter": "python",
   "pygments_lexer": "ipython3",
   "version": "3.8.8"
  }
 },
 "nbformat": 4,
 "nbformat_minor": 5
}
