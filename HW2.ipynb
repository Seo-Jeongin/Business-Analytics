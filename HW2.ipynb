{
 "cells": [
  {
   "cell_type": "markdown",
   "id": "4e6e7cae",
   "metadata": {},
   "source": [
    "# 소셜 네트워크 분석"
   ]
  },
  {
   "cell_type": "markdown",
   "id": "38e9b44c",
   "metadata": {},
   "source": [
    "### * 소셜 미디어의 등장과 확산\n",
    "* 스마트 디바이스의 급격한 확산\n",
    "* SNS 즉 소셜미디어는 온라인 인맥 네트워크와 메세지 정보가 결합된 구조\n",
    "\n",
    "### * 소셜 미디어의 유형분류\n",
    "* 관계-소통형 : 인맥관리 및 연결중심적\n",
    "* 관계-협업형 : 리뷰, 뉴스 등 정보 공동생산\n",
    "* 공유-소통형 : 동영상 및 사진 등 콘텐츠를 함께 공유\n",
    "* 공유-협업형 : 컨텐츠 및 서비스를 협업을 통해 생산 및 공유"
   ]
  },
  {
   "cell_type": "markdown",
   "id": "e9eb2fec",
   "metadata": {},
   "source": [
    "## 1. 소셜 네트워크 분석의 개요"
   ]
  },
  {
   "cell_type": "markdown",
   "id": "fbb41938",
   "metadata": {},
   "source": [
    "### 1) 네트워크 이론의 개요 및 역사\n",
    "* 네트워크 : 각각의 객체들이 상호 연결된 구조, 복수의 노드들이 연결된 구조\n",
    "* 구성요소 : node(Node, vertex)와 링크(link, edge)\n",
    "* 노드(node) : 고유한 속성을 가지고 있는 행위자\n",
    "* 링크(link) : 노드들간의 관계\n",
    "* 예 : 세계 항공기 노선도, 수도권 지하철 노선도 등  "
   ]
  },
  {
   "cell_type": "markdown",
   "id": "9bb2f603",
   "metadata": {},
   "source": [
    "### 2) 네트워크 이론의 역사 \n",
    "* 오일러의 '쾨니히스베르크 다리 건너기 문제\n",
    "* 모레노의 소시오 그램 : 사람들간의 상호관계를 과학적 분석의 대상으로 발전\n",
    "* 바베라스와 리빗의 실험 : 네트워크 중심성에 대한 연구를 촉발\n",
    "* 밀리그램의 6단계 분리이론\n",
    "* 그라노베터의 '약간 연결의 강점' : 가볍게 알고 지내는 지인을 통해 직업을 얻은 경우가 훨씬 많았다는 결과를 통해 약한 사회적 관계의 유용성에 대한 새로운 시사점 제시\n",
    "* 프리만의 '중심성 지표' 개발 : 세 가지 '중심성 지표'(연결정도 중심성, 근접 중심성, 매개 중심성)의 개념 소개\n",
    "* 버트의 '구조적 공백' : 구조적 공백이 네트워크 내에서의 정보 흐름과 영향력에 있어 상대적으로 중요한 역할을 한다는 것을 증명\n",
    "* 왓츠, 스트로가츠의 '좁은 세상 네트워크' : 인접한 노드와 일정한 규칙에 따라 일정한 숫자로만 연결되어 있는 정규 네트워크, 무작위로 연결되어 있는 무작위 네트워크의 중간에 존재하는 좁은 세상 네트워크 제시\n",
    "* 바라바시,알버트, 정하웅의 '무척도 네트워크' : 소수의 링크만을 가지고 있는 수많은 노드들과 수많은 링크를 가지고 있는 소수의 노드들로 양분되는 것"
   ]
  },
  {
   "cell_type": "markdown",
   "id": "2362a7cd",
   "metadata": {},
   "source": [
    "## 2. 네트워크 이론의 기초"
   ]
  },
  {
   "cell_type": "markdown",
   "id": "307c3d4b",
   "metadata": {},
   "source": [
    "### 1) 그래프의 기본 개념\n",
    "* 그래프 이론 : 객체들 간의 네트워크 관계 모델을 수학적으로 표현된 그래프로 나타내는 연구 분야 그래프는 노드(Node, vertex)로 구성, 이러한 노드들은 링크(Link, edge)로 연결되어 있음\n",
    "  + 무방향(Undirected) 네트워크 : 책, 페이스북의 친구 관계 네트워크 등\n",
    "  + 방향(Directed) 네트워크 : 인터넷 주소의 하이퍼링크 네트워크, 트위터의 리트윗 등\n",
    "  + 이진(Binary) 네트워크 : 관계의 유무만 표현\n",
    "  + 가중(Valued) 네트워크 : 관계의 정도를 함께 표시(링크 옆에 가중치 직접 표시, 링크 선의 굵기 다르게 표시 등)"
   ]
  },
  {
   "cell_type": "markdown",
   "id": "05a9616d",
   "metadata": {},
   "source": [
    "### 2) 그래프의 표현 방법\n",
    "* 인접행렬(Adjacency matrix)\n",
    "  + 인접한 노드들 간의 연결 관계를 행렬(Matrix)로 표현\n",
    "* 노드 리스트(Node list)\n",
    "  + 인접한 링크가 있는 노드들만 표기하는 방법으로 '노드들만의 목록'\n",
    "  + 방향성 표시를 위해 incoming, outcoming 구분\n",
    "* 엣지 리스트(Edge list)\n",
    "  + 노드들을 연결한 링크들의 리스트로 '링크의 목록'"
   ]
  },
  {
   "cell_type": "markdown",
   "id": "35c5d5ce",
   "metadata": {},
   "source": [
    "### 3) 네트워크 유형\n",
    "* 방향성과 가중치에 따른 분류 : 4가지 유형으로 구분 가능\n",
    "* 관계의 위상에 따른 분류 : Ring, Mesh, Star, Line 등\n",
    "* 네트워크 크기에 따른 분류 : 노드와 링크의 규모 등에 따라 구분\n",
    "* 분석 대상에 따른 분류 : 전체 네트워크 vs 하위 네트워크\n",
    "  + 전체 네트워크 : 네트워크를 구성하고 있는 모든 노드를 포함한 네트워크\n",
    "  + 하위 네트워크 : 전체 네트워크의 일부분으로 부속되어 있는 것(컴포넌트, 파당, 클러스터 등)\n",
    "  + 파당(Clique) : 3개 이상의 노드를 포함한 것, 파당에 포함된 모든 노드들이 상호간에 직접적으로 연결되어 있음\n",
    "  + 클러스터(Cluster) : 유사한 속성을 가지고 있는 노드들의 집합\n",
    "  + 에고 네트워크(Ego Network) : 분석하고자 하는 특정 노드를 중심에 두고, 그 노드와 직접적으로 연결된 노드들 간의 관계를 네트워크로 표현한 것"
   ]
  },
  {
   "cell_type": "markdown",
   "id": "08e17fa6",
   "metadata": {},
   "source": [
    "## 3. 소셜 네트워크 분석 지표"
   ]
  },
  {
   "cell_type": "markdown",
   "id": "4aae5694",
   "metadata": {},
   "source": [
    "###  1) 기본 속성 분석\n",
    "#### 네트워크 수준의 속성 분석\n",
    "* 네트워크 크기(Netowk size)\n",
    "  + 네트워크를 구성하는 노드들의 수\n",
    "  + 네트워크 크기가 증가할수록 네트워크 구조의 복잡성도 증가\n",
    "* 네트워크 밀도(Network density)\n",
    "  + 네트워크를 구성하고 있는 노드들의 연결된 정도\n",
    "  + 네트워크 내의 노드들 간의 연결이 많아질수록 밀도 증가\n",
    "* 포괄성(Inclusiveness)\n",
    "  + 전체 네트워크의 밀집도를 연결된 노드의 관점에서 표현\n",
    "  + 네트워크상의 총 노드의 개수 중에서 실제로 연결 관계가 존재하는 노드의 개수가 차지하는 비율\n",
    "  \n",
    "#### 노드 수준의 속성 분석\n",
    "* 연결정도(Degree)\n",
    "  + 해당 노드에 직접 연결되어 있는 노드 또는 링크의 개수\n",
    "  + 연결정도가 높을수록 다른 노드들과 많은 관계를 가지고 있음을 보여주며 이는 상대적으로 높은 활동성과 영향력을 반증함\n",
    "* 연결거리(Distance)\n",
    "  + 노드간 관계(링크)의 강도\n",
    "  + 이진 네트워크 / 가중 네트워크\n",
    "  + 두 노드간 연결 거리가 짧을수록 노드간의 연결이 높아짐\n",
    "* 직경(Diameter)\n",
    "  + 네트워크 상의 모든 연결거리 중에서 가장 긴 연결거리\n",
    "  + 네트워크 직경이 작을수록 신속한 정보 전달이 가능해지고 효율성 높아짐\n",
    "* 평균 연결거리(Average Distance)\n",
    "  + 네트워크 내 모든 노드 쌍의 최단 연결거리를 산출하여 평균값을 계산한 것\n",
    "  \n",
    "#### 네트워크에 내재된 속성 분석\n",
    "* 상호성(Reciprocity)\n",
    "  + 방향 네트워크 상에서 2개의 노드 간의 연결이 서로 쌍방향인경우\n",
    "* 군집화 계수(Clustering coefficient)\n",
    "  + 군집화의 정도를 나타내는 지표, 해당 노드의 이웃 노드들 간에 가능한 최대 관계의 수 중에서 실제로 존재하는 관계의 수가 차지하는 비율"
   ]
  },
  {
   "cell_type": "markdown",
   "id": "89ce06d8",
   "metadata": {},
   "source": [
    "### 2) 중심성 분석\n",
    "#### 중심성(Centrality) 지표\n",
    "* 중심성 지표는 한 행위자가 전체 네트워크 중심에 위치하는 정도로 표현하는 지표\n",
    "* 중심성 분석을 통해 전체 네트워크에서 중요한 역할을 하는 노드가 무엇인지 파악 가능  \n",
    "* 연결정도 중심성(Degree Centrality)\n",
    "  + 한 노드가 얼마나 많은 다른 노드들과 연결관계를 맺고 있는 지 측정\n",
    "  + 노드에 연결된 링크의 수가 많아질수록 해당 노드의 연결 정도 중심성은 높아짐\n",
    "* 근접 중심성(Closeness Centrality)\n",
    "  + 한 노드가 얼마나 전체 네트워크의 중심에 근접해 있는지 측정\n",
    "  + 노드가 중앙에 가깝게 위치할 수록 자원과 정보를 신속하게 전체 네트워크로 확산\n",
    "* 매개 중심성(Betweenness Centrality)\n",
    "  + 한 노드가 다른 노드들 간의 네트워크 관계 형성에 있어서 중개자 혹은 매개자 역할을 얼마나 수행하는 지 측정하는 지표\n",
    "  + 노드의 매개 중심성이 높을 수록 네트워크 내에서 정보 및 자원의 흐름에 있어서 높은 통제력 확보\n",
    "* 아이겐 벡터 중심성(Eigenvector Centrality)\n",
    "  + 연결된 다른 노드들의 중요도 함께 반영\n",
    "  + 중심성이 높은 노드들과 많이 연결된 노드일수록 해당 노드의 아이겐벡터 중심성은 커짐"
   ]
  },
  {
   "cell_type": "markdown",
   "id": "c751fea9",
   "metadata": {},
   "source": [
    "## 4. 소셜 네트워크 분석 및 분석 사례"
   ]
  },
  {
   "cell_type": "markdown",
   "id": "30896b2f",
   "metadata": {},
   "source": [
    "### 1) 소셜 네트워크 분석 도구\n",
    "* NodeXL\n",
    "  + 마이크로 소프트 엑셀에 애드인 형태로 결합하여 구동\n",
    "  + 페이스북, 유투브, 플리커, 트위터, 위키피디아 등 다양한 온라인 데이터 수집이 가능\n",
    "* UCINET\n",
    "  + 다양한 소셜네트워크 분석 기법을 적용할 수 있는 종합적인 분석 프로그램\n",
    "  + 중심성, 자아중심 네트워크, 하위집단, 응집력 등 중요한 네트워크 분석 지표들과 기능이 망라\n",
    "* Pajek\n",
    "  + 네트워크 분석과 시각화 기능을 제공하는 공개 소프트웨어\n",
    "  + 노드의 수가 10000개에 이르는 대규모 네트워크 분석 가능\n",
    "* NetMiner\n",
    "  + UCINET과 KrackPlot의 기능과 장점들을 통합하여 개발\n",
    "  + 각각의 네트워크 분석 지표별로 적합하게 구현된 시각화 기능 제공\n",
    "* Gephi\n",
    "  + 탁월한 시각화 기능, 최대 백만 노드까지 분석 가능\n",
    "  + 소셜네트워크 분석을 포함하여 모든 종류의 복잡계 네트워크 분석에 적합하게 설계"
   ]
  },
  {
   "cell_type": "markdown",
   "id": "4a3fb2fa",
   "metadata": {},
   "source": [
    "### 2) 소셜 네트워크 분석 사례\n",
    "* 하이퍼링크 네트워크 분석\n",
    "* 트위터 네트워크 분석\n",
    "* 트위터 에고 네트워크 분석\n",
    "* 유튜브 동영상 네트워크 분석\n",
    "* 페이스북 네트워크 분석\n",
    "* 의미 네트워크 분석"
   ]
  },
  {
   "cell_type": "markdown",
   "id": "ecee926c",
   "metadata": {},
   "source": [
    "# 소셜 네트워크 실습"
   ]
  },
  {
   "cell_type": "code",
   "execution_count": 1,
   "id": "778681c3",
   "metadata": {},
   "outputs": [
    {
     "name": "stdout",
     "output_type": "stream",
     "text": [
      "       from        to\n",
      "0       아이유  G-DRAGON\n",
      "1      에픽하이       아이유\n",
      "2      에픽하이        오혁\n",
      "3       아이유        오혁\n",
      "4     HIGH4       아이유\n",
      "5      에픽하이      MINO\n",
      "6      에픽하이   사이먼 도미닉\n",
      "7      에픽하이      더콰이엇\n",
      "8      에픽하이        수현\n",
      "9      MINO   사이먼 도미닉\n",
      "10     MINO      더콰이엇\n",
      "11  사이먼 도미닉      더콰이엇\n"
     ]
    }
   ],
   "source": [
    "%matplotlib inline\n",
    "import pandas as pd\n",
    "import numpy as np\n",
    "\n",
    "f = pd.read_csv('featuring(1).csv', encoding='utf-8')  #csv 파일 불러오기\n",
    "print(f)"
   ]
  },
  {
   "cell_type": "code",
   "execution_count": 2,
   "id": "19e0a5c6",
   "metadata": {},
   "outputs": [
    {
     "data": {
      "text/html": [
       "<div>\n",
       "<style scoped>\n",
       "    .dataframe tbody tr th:only-of-type {\n",
       "        vertical-align: middle;\n",
       "    }\n",
       "\n",
       "    .dataframe tbody tr th {\n",
       "        vertical-align: top;\n",
       "    }\n",
       "\n",
       "    .dataframe thead th {\n",
       "        text-align: right;\n",
       "    }\n",
       "</style>\n",
       "<table border=\"1\" class=\"dataframe\">\n",
       "  <thead>\n",
       "    <tr style=\"text-align: right;\">\n",
       "      <th></th>\n",
       "      <th>from</th>\n",
       "      <th>to</th>\n",
       "    </tr>\n",
       "  </thead>\n",
       "  <tbody>\n",
       "    <tr>\n",
       "      <th>0</th>\n",
       "      <td>아이유</td>\n",
       "      <td>G-DRAGON</td>\n",
       "    </tr>\n",
       "    <tr>\n",
       "      <th>1</th>\n",
       "      <td>에픽하이</td>\n",
       "      <td>아이유</td>\n",
       "    </tr>\n",
       "    <tr>\n",
       "      <th>2</th>\n",
       "      <td>에픽하이</td>\n",
       "      <td>오혁</td>\n",
       "    </tr>\n",
       "    <tr>\n",
       "      <th>3</th>\n",
       "      <td>아이유</td>\n",
       "      <td>오혁</td>\n",
       "    </tr>\n",
       "    <tr>\n",
       "      <th>4</th>\n",
       "      <td>HIGH4</td>\n",
       "      <td>아이유</td>\n",
       "    </tr>\n",
       "  </tbody>\n",
       "</table>\n",
       "</div>"
      ],
      "text/plain": [
       "    from        to\n",
       "0    아이유  G-DRAGON\n",
       "1   에픽하이       아이유\n",
       "2   에픽하이        오혁\n",
       "3    아이유        오혁\n",
       "4  HIGH4       아이유"
      ]
     },
     "execution_count": 2,
     "metadata": {},
     "output_type": "execute_result"
    }
   ],
   "source": [
    "f.head()"
   ]
  },
  {
   "cell_type": "code",
   "execution_count": 3,
   "id": "39a2aa5d",
   "metadata": {},
   "outputs": [
    {
     "name": "stdout",
     "output_type": "stream",
     "text": [
      "Name: \n",
      "Type: Graph\n",
      "Number of nodes: 9\n",
      "Number of edges: 12\n",
      "Average degree:   2.6667\n"
     ]
    }
   ],
   "source": [
    "import matplotlib.pyplot as plt\n",
    "import networkx as nx\n",
    "\n",
    "G = nx.DiGraph()  # networkx 이용하여 방향성 있는 그래프 생성\n",
    "G = nx.nx.from_pandas_edgelist(f, source = 'from', target = 'to')\n",
    "print(nx.info(G))  # 그래프 정보 출력"
   ]
  },
  {
   "cell_type": "code",
   "execution_count": 4,
   "id": "51e55d8e",
   "metadata": {},
   "outputs": [
    {
     "ename": "NetworkXError",
     "evalue": "random_state_index is incorrect",
     "output_type": "error",
     "traceback": [
      "\u001b[1;31m---------------------------------------------------------------------------\u001b[0m",
      "\u001b[1;31mIndexError\u001b[0m                                Traceback (most recent call last)",
      "\u001b[1;32m~\\anaconda3\\lib\\site-packages\\networkx\\utils\\decorators.py\u001b[0m in \u001b[0;36m_random_state\u001b[1;34m(func, *args, **kwargs)\u001b[0m\n\u001b[0;32m    395\u001b[0m         \u001b[1;32mtry\u001b[0m\u001b[1;33m:\u001b[0m\u001b[1;33m\u001b[0m\u001b[1;33m\u001b[0m\u001b[0m\n\u001b[1;32m--> 396\u001b[1;33m             \u001b[0mrandom_state_arg\u001b[0m \u001b[1;33m=\u001b[0m \u001b[0margs\u001b[0m\u001b[1;33m[\u001b[0m\u001b[0mrandom_state_index\u001b[0m\u001b[1;33m]\u001b[0m\u001b[1;33m\u001b[0m\u001b[1;33m\u001b[0m\u001b[0m\n\u001b[0m\u001b[0;32m    397\u001b[0m         \u001b[1;32mexcept\u001b[0m \u001b[0mTypeError\u001b[0m \u001b[1;32mas\u001b[0m \u001b[0me\u001b[0m\u001b[1;33m:\u001b[0m\u001b[1;33m\u001b[0m\u001b[1;33m\u001b[0m\u001b[0m\n",
      "\u001b[1;31mIndexError\u001b[0m: tuple index out of range",
      "\nThe above exception was the direct cause of the following exception:\n",
      "\u001b[1;31mNetworkXError\u001b[0m                             Traceback (most recent call last)",
      "\u001b[1;32m<ipython-input-4-6b657979c632>\u001b[0m in \u001b[0;36m<module>\u001b[1;34m\u001b[0m\n\u001b[1;32m----> 1\u001b[1;33m \u001b[0mnx\u001b[0m\u001b[1;33m.\u001b[0m\u001b[0mdraw\u001b[0m\u001b[1;33m(\u001b[0m\u001b[0mG\u001b[0m\u001b[1;33m)\u001b[0m\u001b[1;33m\u001b[0m\u001b[1;33m\u001b[0m\u001b[0m\n\u001b[0m\u001b[0;32m      2\u001b[0m \u001b[0mplt\u001b[0m\u001b[1;33m.\u001b[0m\u001b[0mshow\u001b[0m\u001b[1;33m(\u001b[0m\u001b[1;33m)\u001b[0m\u001b[1;33m\u001b[0m\u001b[1;33m\u001b[0m\u001b[0m\n",
      "\u001b[1;32m~\\anaconda3\\lib\\site-packages\\networkx\\drawing\\nx_pylab.py\u001b[0m in \u001b[0;36mdraw\u001b[1;34m(G, pos, ax, **kwds)\u001b[0m\n\u001b[0;32m    121\u001b[0m         \u001b[0mkwds\u001b[0m\u001b[1;33m[\u001b[0m\u001b[1;34m\"with_labels\"\u001b[0m\u001b[1;33m]\u001b[0m \u001b[1;33m=\u001b[0m \u001b[1;34m\"labels\"\u001b[0m \u001b[1;32min\u001b[0m \u001b[0mkwds\u001b[0m\u001b[1;33m\u001b[0m\u001b[1;33m\u001b[0m\u001b[0m\n\u001b[0;32m    122\u001b[0m \u001b[1;33m\u001b[0m\u001b[0m\n\u001b[1;32m--> 123\u001b[1;33m     \u001b[0mdraw_networkx\u001b[0m\u001b[1;33m(\u001b[0m\u001b[0mG\u001b[0m\u001b[1;33m,\u001b[0m \u001b[0mpos\u001b[0m\u001b[1;33m=\u001b[0m\u001b[0mpos\u001b[0m\u001b[1;33m,\u001b[0m \u001b[0max\u001b[0m\u001b[1;33m=\u001b[0m\u001b[0max\u001b[0m\u001b[1;33m,\u001b[0m \u001b[1;33m**\u001b[0m\u001b[0mkwds\u001b[0m\u001b[1;33m)\u001b[0m\u001b[1;33m\u001b[0m\u001b[1;33m\u001b[0m\u001b[0m\n\u001b[0m\u001b[0;32m    124\u001b[0m     \u001b[0max\u001b[0m\u001b[1;33m.\u001b[0m\u001b[0mset_axis_off\u001b[0m\u001b[1;33m(\u001b[0m\u001b[1;33m)\u001b[0m\u001b[1;33m\u001b[0m\u001b[1;33m\u001b[0m\u001b[0m\n\u001b[0;32m    125\u001b[0m     \u001b[0mplt\u001b[0m\u001b[1;33m.\u001b[0m\u001b[0mdraw_if_interactive\u001b[0m\u001b[1;33m(\u001b[0m\u001b[1;33m)\u001b[0m\u001b[1;33m\u001b[0m\u001b[1;33m\u001b[0m\u001b[0m\n",
      "\u001b[1;32m~\\anaconda3\\lib\\site-packages\\networkx\\drawing\\nx_pylab.py\u001b[0m in \u001b[0;36mdraw_networkx\u001b[1;34m(G, pos, arrows, with_labels, **kwds)\u001b[0m\n\u001b[0;32m    331\u001b[0m \u001b[1;33m\u001b[0m\u001b[0m\n\u001b[0;32m    332\u001b[0m     \u001b[1;32mif\u001b[0m \u001b[0mpos\u001b[0m \u001b[1;32mis\u001b[0m \u001b[1;32mNone\u001b[0m\u001b[1;33m:\u001b[0m\u001b[1;33m\u001b[0m\u001b[1;33m\u001b[0m\u001b[0m\n\u001b[1;32m--> 333\u001b[1;33m         \u001b[0mpos\u001b[0m \u001b[1;33m=\u001b[0m \u001b[0mnx\u001b[0m\u001b[1;33m.\u001b[0m\u001b[0mdrawing\u001b[0m\u001b[1;33m.\u001b[0m\u001b[0mspring_layout\u001b[0m\u001b[1;33m(\u001b[0m\u001b[0mG\u001b[0m\u001b[1;33m)\u001b[0m  \u001b[1;31m# default to spring layout\u001b[0m\u001b[1;33m\u001b[0m\u001b[1;33m\u001b[0m\u001b[0m\n\u001b[0m\u001b[0;32m    334\u001b[0m \u001b[1;33m\u001b[0m\u001b[0m\n\u001b[0;32m    335\u001b[0m     \u001b[0mdraw_networkx_nodes\u001b[0m\u001b[1;33m(\u001b[0m\u001b[0mG\u001b[0m\u001b[1;33m,\u001b[0m \u001b[0mpos\u001b[0m\u001b[1;33m,\u001b[0m \u001b[1;33m**\u001b[0m\u001b[0mnode_kwds\u001b[0m\u001b[1;33m)\u001b[0m\u001b[1;33m\u001b[0m\u001b[1;33m\u001b[0m\u001b[0m\n",
      "\u001b[1;32m~\\anaconda3\\lib\\site-packages\\decorator.py\u001b[0m in \u001b[0;36mfun\u001b[1;34m(*args, **kw)\u001b[0m\n\u001b[0;32m    229\u001b[0m             \u001b[1;32mif\u001b[0m \u001b[1;32mnot\u001b[0m \u001b[0mkwsyntax\u001b[0m\u001b[1;33m:\u001b[0m\u001b[1;33m\u001b[0m\u001b[1;33m\u001b[0m\u001b[0m\n\u001b[0;32m    230\u001b[0m                 \u001b[0margs\u001b[0m\u001b[1;33m,\u001b[0m \u001b[0mkw\u001b[0m \u001b[1;33m=\u001b[0m \u001b[0mfix\u001b[0m\u001b[1;33m(\u001b[0m\u001b[0margs\u001b[0m\u001b[1;33m,\u001b[0m \u001b[0mkw\u001b[0m\u001b[1;33m,\u001b[0m \u001b[0msig\u001b[0m\u001b[1;33m)\u001b[0m\u001b[1;33m\u001b[0m\u001b[1;33m\u001b[0m\u001b[0m\n\u001b[1;32m--> 231\u001b[1;33m             \u001b[1;32mreturn\u001b[0m \u001b[0mcaller\u001b[0m\u001b[1;33m(\u001b[0m\u001b[0mfunc\u001b[0m\u001b[1;33m,\u001b[0m \u001b[1;33m*\u001b[0m\u001b[1;33m(\u001b[0m\u001b[0mextras\u001b[0m \u001b[1;33m+\u001b[0m \u001b[0margs\u001b[0m\u001b[1;33m)\u001b[0m\u001b[1;33m,\u001b[0m \u001b[1;33m**\u001b[0m\u001b[0mkw\u001b[0m\u001b[1;33m)\u001b[0m\u001b[1;33m\u001b[0m\u001b[1;33m\u001b[0m\u001b[0m\n\u001b[0m\u001b[0;32m    232\u001b[0m     \u001b[0mfun\u001b[0m\u001b[1;33m.\u001b[0m\u001b[0m__name__\u001b[0m \u001b[1;33m=\u001b[0m \u001b[0mfunc\u001b[0m\u001b[1;33m.\u001b[0m\u001b[0m__name__\u001b[0m\u001b[1;33m\u001b[0m\u001b[1;33m\u001b[0m\u001b[0m\n\u001b[0;32m    233\u001b[0m     \u001b[0mfun\u001b[0m\u001b[1;33m.\u001b[0m\u001b[0m__doc__\u001b[0m \u001b[1;33m=\u001b[0m \u001b[0mfunc\u001b[0m\u001b[1;33m.\u001b[0m\u001b[0m__doc__\u001b[0m\u001b[1;33m\u001b[0m\u001b[1;33m\u001b[0m\u001b[0m\n",
      "\u001b[1;32m~\\anaconda3\\lib\\site-packages\\networkx\\utils\\decorators.py\u001b[0m in \u001b[0;36m_random_state\u001b[1;34m(func, *args, **kwargs)\u001b[0m\n\u001b[0;32m    398\u001b[0m             \u001b[1;32mraise\u001b[0m \u001b[0mnx\u001b[0m\u001b[1;33m.\u001b[0m\u001b[0mNetworkXError\u001b[0m\u001b[1;33m(\u001b[0m\u001b[1;34m\"random_state_index must be an integer\"\u001b[0m\u001b[1;33m)\u001b[0m \u001b[1;32mfrom\u001b[0m \u001b[0me\u001b[0m\u001b[1;33m\u001b[0m\u001b[1;33m\u001b[0m\u001b[0m\n\u001b[0;32m    399\u001b[0m         \u001b[1;32mexcept\u001b[0m \u001b[0mIndexError\u001b[0m \u001b[1;32mas\u001b[0m \u001b[0me\u001b[0m\u001b[1;33m:\u001b[0m\u001b[1;33m\u001b[0m\u001b[1;33m\u001b[0m\u001b[0m\n\u001b[1;32m--> 400\u001b[1;33m             \u001b[1;32mraise\u001b[0m \u001b[0mnx\u001b[0m\u001b[1;33m.\u001b[0m\u001b[0mNetworkXError\u001b[0m\u001b[1;33m(\u001b[0m\u001b[1;34m\"random_state_index is incorrect\"\u001b[0m\u001b[1;33m)\u001b[0m \u001b[1;32mfrom\u001b[0m \u001b[0me\u001b[0m\u001b[1;33m\u001b[0m\u001b[1;33m\u001b[0m\u001b[0m\n\u001b[0m\u001b[0;32m    401\u001b[0m \u001b[1;33m\u001b[0m\u001b[0m\n\u001b[0;32m    402\u001b[0m         \u001b[1;31m# Create a numpy.random.RandomState instance\u001b[0m\u001b[1;33m\u001b[0m\u001b[1;33m\u001b[0m\u001b[1;33m\u001b[0m\u001b[0m\n",
      "\u001b[1;31mNetworkXError\u001b[0m: random_state_index is incorrect"
     ]
    },
    {
     "data": {
      "image/png": "[encoded data removed]",
      "text/plain": [
       "<Figure size 432x288 with 1 Axes>"
      ]
     },
     "metadata": {},
     "output_type": "display_data"
    }
   ],
   "source": [
    "nx.draw(G)\n",
    "plt.show()"
   ]
  }
 ],
 "metadata": {
  "kernelspec": {
   "display_name": "Python 3",
   "language": "python",
   "name": "python3"
  },
  "language_info": {
   "codemirror_mode": {
    "name": "ipython",
    "version": 3
   },
   "file_extension": ".py",
   "mimetype": "text/x-python",
   "name": "python",
   "nbconvert_exporter": "python",
   "pygments_lexer": "ipython3",
   "version": "3.8.8"
  }
 },
 "nbformat": 4,
 "nbformat_minor": 5
}
